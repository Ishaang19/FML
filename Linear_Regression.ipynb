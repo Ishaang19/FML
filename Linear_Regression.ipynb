{
  "nbformat": 4,
  "nbformat_minor": 0,
  "metadata": {
    "colab": {
      "provenance": [],
      "mount_file_id": "1cOkZeNse_IBpneqS5ytiHnefh3Fvh2GR",
      "authorship_tag": "ABX9TyPqqtTdzLdULo1pO4dW7oSD",
      "include_colab_link": true
    },
    "kernelspec": {
      "name": "python3",
      "display_name": "Python 3"
    },
    "language_info": {
      "name": "python"
    }
  },
  "cells": [
    {
      "cell_type": "markdown",
      "metadata": {
        "id": "view-in-github",
        "colab_type": "text"
      },
      "source": [
        "<a href=\"https://colab.research.google.com/github/Ishaang19/FML/blob/main/Linear_Regression.ipynb\" target=\"_parent\"><img src=\"https://colab.research.google.com/assets/colab-badge.svg\" alt=\"Open In Colab\"/></a>"
      ]
    },
    {
      "cell_type": "code",
      "execution_count": 25,
      "metadata": {
        "id": "pDKJCZIsC14M"
      },
      "outputs": [],
      "source": [
        "import numpy as np\n",
        "import pandas as pd\n",
        "import matplotlib.pyplot as plt"
      ]
    },
    {
      "cell_type": "code",
      "source": [
        "data=pd.read_csv('/content/Salary_Data.csv')\n",
        "x=data.iloc[:,:-1].values\n",
        "y=data.iloc[:,1:2].values"
      ],
      "metadata": {
        "id": "hafUIUqkDJ6N"
      },
      "execution_count": 26,
      "outputs": []
    },
    {
      "cell_type": "code",
      "source": [
        "print(x)\n",
        "print(y)"
      ],
      "metadata": {
        "id": "TTWBO4PUdF6f",
        "outputId": "c4294c4d-5877-45cd-c22e-c2660c8988f1",
        "colab": {
          "base_uri": "https://localhost:8080/"
        }
      },
      "execution_count": 27,
      "outputs": [
        {
          "output_type": "stream",
          "name": "stdout",
          "text": [
            "[[ 1.1]\n",
            " [ 1.3]\n",
            " [ 1.5]\n",
            " [ 2. ]\n",
            " [ 2.2]\n",
            " [ 2.9]\n",
            " [ 3. ]\n",
            " [ 3.2]\n",
            " [ 3.2]\n",
            " [ 3.7]\n",
            " [ 3.9]\n",
            " [ 4. ]\n",
            " [ 4. ]\n",
            " [ 4.1]\n",
            " [ 4.5]\n",
            " [ 4.9]\n",
            " [ 5.1]\n",
            " [ 5.3]\n",
            " [ 5.9]\n",
            " [ 6. ]\n",
            " [ 6.8]\n",
            " [ 7.1]\n",
            " [ 7.9]\n",
            " [ 8.2]\n",
            " [ 8.7]\n",
            " [ 9. ]\n",
            " [ 9.5]\n",
            " [ 9.6]\n",
            " [10.3]\n",
            " [10.5]]\n",
            "[[ 39343.]\n",
            " [ 46205.]\n",
            " [ 37731.]\n",
            " [ 43525.]\n",
            " [ 39891.]\n",
            " [ 56642.]\n",
            " [ 60150.]\n",
            " [ 54445.]\n",
            " [ 64445.]\n",
            " [ 57189.]\n",
            " [ 63218.]\n",
            " [ 55794.]\n",
            " [ 56957.]\n",
            " [ 57081.]\n",
            " [ 61111.]\n",
            " [ 67938.]\n",
            " [ 66029.]\n",
            " [ 83088.]\n",
            " [ 81363.]\n",
            " [ 93940.]\n",
            " [ 91738.]\n",
            " [ 98273.]\n",
            " [101302.]\n",
            " [113812.]\n",
            " [109431.]\n",
            " [105582.]\n",
            " [116969.]\n",
            " [112635.]\n",
            " [122391.]\n",
            " [121872.]]\n"
          ]
        }
      ]
    },
    {
      "cell_type": "code",
      "source": [
        "from sklearn.model_selection import train_test_split\n",
        "xtr,xt,ytr,yt=train_test_split(x,y,test_size=0.3,random_state=2)\n",
        "print(xtr)\n",
        "print(ytr)"
      ],
      "metadata": {
        "colab": {
          "base_uri": "https://localhost:8080/"
        },
        "id": "9t6vOPd5DmBy",
        "outputId": "8a771468-3455-4c48-8e6d-c7dede64d0e3"
      },
      "execution_count": 28,
      "outputs": [
        {
          "output_type": "stream",
          "name": "stdout",
          "text": [
            "[[ 6.8]\n",
            " [ 2.9]\n",
            " [ 9.6]\n",
            " [ 4. ]\n",
            " [ 2.2]\n",
            " [ 3.9]\n",
            " [ 5.1]\n",
            " [10.3]\n",
            " [ 9. ]\n",
            " [ 5.3]\n",
            " [ 1.5]\n",
            " [ 3.2]\n",
            " [ 9.5]\n",
            " [ 8.7]\n",
            " [ 5.9]\n",
            " [ 4. ]\n",
            " [ 7.9]\n",
            " [10.5]\n",
            " [ 4.1]\n",
            " [ 4.9]\n",
            " [ 3.2]]\n",
            "[[ 91738.]\n",
            " [ 56642.]\n",
            " [112635.]\n",
            " [ 56957.]\n",
            " [ 39891.]\n",
            " [ 63218.]\n",
            " [ 66029.]\n",
            " [122391.]\n",
            " [105582.]\n",
            " [ 83088.]\n",
            " [ 37731.]\n",
            " [ 54445.]\n",
            " [116969.]\n",
            " [109431.]\n",
            " [ 81363.]\n",
            " [ 55794.]\n",
            " [101302.]\n",
            " [121872.]\n",
            " [ 57081.]\n",
            " [ 67938.]\n",
            " [ 64445.]]\n"
          ]
        }
      ]
    },
    {
      "cell_type": "code",
      "source": [
        "from sklearn.linear_model import LinearRegression\n",
        "Lr=LinearRegression()\n",
        "Lr.fit(xtr,ytr)\n",
        "print(xt)\n",
        "yp=Lr.predict(xt)\n",
        "print(yp)"
      ],
      "metadata": {
        "colab": {
          "base_uri": "https://localhost:8080/"
        },
        "id": "eeyrdPmSEamc",
        "outputId": "7d0c6692-690b-4751-f795-84435a07a1d3"
      },
      "execution_count": 29,
      "outputs": [
        {
          "output_type": "stream",
          "name": "stdout",
          "text": [
            "[[1.3]\n",
            " [1.1]\n",
            " [4.5]\n",
            " [3.7]\n",
            " [7.1]\n",
            " [6. ]\n",
            " [8.2]\n",
            " [3. ]\n",
            " [2. ]]\n",
            "[[ 36143.62176044]\n",
            " [ 34237.05465324]\n",
            " [ 66648.69547576]\n",
            " [ 59022.42704693]\n",
            " [ 91434.06786946]\n",
            " [ 80947.94877982]\n",
            " [101920.1869591 ]\n",
            " [ 52349.44217171]\n",
            " [ 42816.60663567]]\n"
          ]
        }
      ]
    },
    {
      "cell_type": "code",
      "source": [
        "plt.scatter(xtr,ytr,color='Blue')\n",
        "plt.plot(xtr,Lr.predict(xtr),color='Green')\n",
        "plt.title('Salary Predict')\n",
        "plt.xlabel('Experience(years)')\n",
        "plt.ylabel('Salary(in rupees)')\n",
        "plt.show()"
      ],
      "metadata": {
        "colab": {
          "base_uri": "https://localhost:8080/",
          "height": 472
        },
        "id": "RuIAwievG_aM",
        "outputId": "688672b4-5a5a-4779-a5e0-fdcb910d7712"
      },
      "execution_count": 30,
      "outputs": [
        {
          "output_type": "display_data",
          "data": {
            "text/plain": [
              "<Figure size 640x480 with 1 Axes>"
            ],
            "image/png": "[encoded data removed]"
          },
          "metadata": {}
        }
      ]
    },
    {
      "cell_type": "code",
      "source": [
        "print(f\"Expected salary is{Lr.predict([[22]])}\")"
      ],
      "metadata": {
        "colab": {
          "base_uri": "https://localhost:8080/"
        },
        "id": "9pyG-mi1Ji47",
        "outputId": "83a4ef6c-c3d5-438c-f397-967b8aab4a5e"
      },
      "execution_count": 31,
      "outputs": [
        {
          "output_type": "stream",
          "name": "stdout",
          "text": [
            "Expected salary is[[233473.3173564]]\n"
          ]
        }
      ]
    },
    {
      "cell_type": "code",
      "source": [],
      "metadata": {
        "id": "B8gXwFAzLOv5"
      },
      "execution_count": null,
      "outputs": []
    },
    {
      "cell_type": "code",
      "source": [],
      "metadata": {
        "id": "EjQCg_4seoaY"
      },
      "execution_count": null,
      "outputs": []
    }
  ]
}